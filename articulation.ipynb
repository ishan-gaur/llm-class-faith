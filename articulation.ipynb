{
 "cells": [
  {
   "cell_type": "code",
   "execution_count": 84,
   "metadata": {},
   "outputs": [
    {
     "name": "stdout",
     "output_type": "stream",
     "text": [
      "The autoreload extension is already loaded. To reload it, use:\n",
      "  %reload_ext autoreload\n"
     ]
    }
   ],
   "source": [
    "%load_ext autoreload\n",
    "%autoreload 2\n",
    "\n",
    "import json\n",
    "from pathlib import Path\n",
    "from utils import client, results_path, json_prefix, gpt_prediction\n",
    "\n",
    "TEMP, SAMP = \"temperature\", \"sample_count\"\n",
    "results_folder = Path.cwd() / \"results\""
   ]
  },
  {
   "cell_type": "code",
   "execution_count": 85,
   "metadata": {},
   "outputs": [],
   "source": [
    "# experiment_folder = \"sentence_cap_short\"\n",
    "# param_value = 15\n",
    "# param = SAMP\n",
    "# long = True"
   ]
  },
  {
   "cell_type": "code",
   "execution_count": 86,
   "metadata": {},
   "outputs": [],
   "source": [
    "# experiment_folder = \"sentence_proper\"\n",
    "# param_value = 10\n",
    "# param = SAMP\n",
    "# long = True"
   ]
  },
  {
   "cell_type": "code",
   "execution_count": 87,
   "metadata": {},
   "outputs": [],
   "source": [
    "# experiment_folder = \"sentence_complete\"\n",
    "# param_value = 5\n",
    "# param = SAMP\n",
    "# long = True"
   ]
  },
  {
   "cell_type": "code",
   "execution_count": 88,
   "metadata": {},
   "outputs": [],
   "source": [
    "# experiment_folder = \"sentence_lenpar_more_and_context\"\n",
    "# param_value = 0.5\n",
    "# param = TEMP\n",
    "# long = False"
   ]
  },
  {
   "cell_type": "code",
   "execution_count": 89,
   "metadata": {},
   "outputs": [],
   "source": [
    "experiment_folder = \"sentence_caps_random_context_multiple\"\n",
    "param_value = 1\n",
    "param = TEMP\n",
    "long = True"
   ]
  },
  {
   "cell_type": "code",
   "execution_count": 90,
   "metadata": {},
   "outputs": [
    {
     "name": "stdout",
     "output_type": "stream",
     "text": [
      "[{'input': 'THE EAGLE SOARS HIGH IN THE SKY.', 'label': True},\n",
      " {'input': 'the ocean waves crash against the shore.', 'label': False},\n",
      " {'input': 'LOVE CONQUERS ALL.', 'label': True},\n",
      " {'input': 'winter brings snow and frosty mornings.', 'label': False},\n",
      " {'input': 'THE UNIVERSE IS VAST AND MYSTERIOUS.', 'label': True},\n",
      " {'input': 'the sun sets in the west.', 'label': False},\n",
      " {'input': 'FAMILY HOLDS A SPECIAL PLACE IN OUR HEARTS.', 'label': True},\n",
      " {'input': 'butterflies dance in the garden.', 'label': False},\n",
      " {'input': 'FAILURE IS A STEPPING STONE TO SUCCESS.', 'label': True},\n",
      " {'input': 'healthy habits lead to a happy life.', 'label': False}]\n",
      "\n",
      "Please label the following inputs. Respond in JSON format like the examples given to you above.\n",
      "[{'input': 'CURIOSITY LEADS TO DISCOVERY.'},\n",
      " {'input': 'THE RAINBOW BRINGS JOY AFTER THE RAIN.'},\n",
      " {'input': 'CHANGE IS THE ONLY CONSTANT.'},\n",
      " {'input': 'creativity knows no bounds.'},\n",
      " {'input': 'java is widely used in enterprise applications.'},\n",
      " {'input': 'solving puzzles sharpens the mind.'},\n",
      " {'input': 'a hot cup of cocoa warms the soul.'},\n",
      " {'input': 'dream big and work hard to achieve it.'},\n",
      " {'input': 'sunflowers turn to face the sun.'},\n",
      " {'input': 'bicycling is a great way to stay active.'},\n",
      " {'input': 'GRATITUDE OPENS DOORS TO ABUNDANCE.'},\n",
      " {'input': 'THE EARTH ROTATES ON ITS AXIS.'},\n",
      " {'input': 'the mountains are majestic and grand.'},\n",
      " {'input': 'SUCCESS IS A JOURNEY, NOT A DESTINATION.'},\n",
      " {'input': 'the moonlight casts a glow over the night.'},\n",
      " {'input': 'COFFEE IS THE FUEL OF PRODUCTIVITY.'},\n",
      " {'input': 'laughter is contagious and brings joy.'},\n",
      " {'input': 'i enjoy hiking in the peaceful woods.'},\n",
      " {'input': 'always strive for excellence.'},\n",
      " {'input': 'CHOCOLATE IS A DELIGHTFUL INDULGENCE.'},\n",
      " {'input': \"TIME FLIES WHEN YOU'RE HAVING FUN.\"},\n",
      " {'input': 'THE OCEAN WAVES CRASH AGAINST THE SHORE.'},\n",
      " {'input': 'the world is full of fascinating cultures.'},\n",
      " {'input': 'PATIENCE IS A VIRTUE.'},\n",
      " {'input': 'COURAGE IS RESISTANCE TO FEAR, MASTERY OF FEAR, NOT ABSENCE OF '\n",
      "           'FEAR.'},\n",
      " {'input': 'the stars twinkle in the night sky.'},\n",
      " {'input': 'gardening is a therapeutic outdoor activity.'},\n",
      " {'input': 'today is a beautiful day.'},\n",
      " {'input': 'THE ONLY LIMIT TO OUR REALIZATION OF TOMORROW WILL BE OUR DOUBTS '\n",
      "           'OF TODAY.'},\n",
      " {'input': 'READING OPENS DOORS TO NEW WORLDS.'},\n",
      " {'input': 'LEARNING IS A LIFELONG JOURNEY.'},\n",
      " {'input': 'success is a journey, not a destination.'},\n",
      " {'input': 'a brown cat sleeps on the windowsill.'},\n",
      " {'input': 'IN THE END, WE WILL REMEMBER NOT THE WORDS OF OUR ENEMIES, BUT THE '\n",
      "           'SILENCE OF OUR FRIENDS.'},\n",
      " {'input': 'reading opens doors to new worlds.'},\n",
      " {'input': 'ALWAYS STRIVE FOR EXCELLENCE.'},\n",
      " {'input': 'THERE IS NOTHING EITHER GOOD OR BAD, BUT THINKING MAKES IT SO.'},\n",
      " {'input': 'KNOWLEDGE IS POWER.'},\n",
      " {'input': 'the wind gently rustles the leaves.'},\n",
      " {'input': 'coffee is the fuel of productivity.'},\n",
      " {'input': 'python is a popular programming language.'},\n",
      " {'input': 'learning a new language is a rewarding experience.'},\n",
      " {'input': 'PEACE BEGINS WITH A SMILE.'},\n",
      " {'input': 'WINTER BRINGS SNOW AND FROSTY MORNINGS.'},\n",
      " {'input': 'green tea has many health benefits.'},\n",
      " {'input': 'the river flows silently through the valley.'},\n",
      " {'input': 'THE OLYMPICS CELEBRATE ATHLETIC EXCELLENCE.'},\n",
      " {'input': 'THE SUNRISE PAINTS THE SKY WITH WARM COLORS.'},\n",
      " {'input': 'the city comes alive at night.'},\n",
      " {'input': 'summer evenings are filled with laughter.'},\n",
      " {'input': 'I LOVE TO TRAVEL AND EXPLORE NEW PLACES.'},\n",
      " {'input': 'the quick brown fox jumps over the lazy dog.'},\n",
      " {'input': 'POSITIVITY BREEDS POSITIVITY.'},\n",
      " {'input': 'oceans hide countless wonders beneath the surface.'},\n",
      " {'input': \"traveling broadens one's perspective.\"},\n",
      " {'input': 'mediterranean cuisine is delicious and healthy.'},\n",
      " {'input': 'HAPPINESS IS A WARM CUP OF TEA.'},\n",
      " {'input': 'THE FLOWERS BLOOM IN SPRING.'},\n",
      " {'input': 'yoga and meditation promote inner peace.'},\n",
      " {'input': 'mindfulness brings focus to the present moment.'},\n",
      " {'input': 'SCIENCE AND TECHNOLOGY ARE DRIVING INNOVATION.'},\n",
      " {'input': 'THE STARS TWINKLE IN THE NIGHT SKY.'},\n",
      " {'input': 'A SUCCESSFUL MAN IS ONE WHO CAN LAY A FIRM FOUNDATION WITH THE '\n",
      "           'BRICKS OTHERS HAVE THROWN AT HIM.'},\n",
      " {'input': 'THE SILENCE OF NATURE IS VERY REAL. IT SURROUNDS YOU...'},\n",
      " {'input': 'HEALTHY HABITS LEAD TO A HAPPY LIFE.'},\n",
      " {'input': \"LIFE IS WHAT HAPPENS WHEN YOU'RE BUSY MAKING PLANS.\"},\n",
      " {'input': 'MUSIC HAS THE POWER TO EVOKE STRONG EMOTIONS.'},\n",
      " {'input': 'candles create a warm and inviting atmosphere.'},\n",
      " {'input': 'DREAM BIG AND WORK HARD TO ACHIEVE IT.'},\n",
      " {'input': 'BE KIND TO ONE ANOTHER.'},\n",
      " {'input': 'THE WIND WHISPERS THROUGH THE TREES.'},\n",
      " {'input': 'science and technology are driving innovation.'},\n",
      " {'input': 'the earth rotates on its axis.'},\n",
      " {'input': 'friendship is like a shining star in the dark.'},\n",
      " {'input': 'writing allows thoughts to come to life.'},\n",
      " {'input': 'TODAY IS A BEAUTIFUL DAY.'},\n",
      " {'input': 'THE MOONLIGHT CASTS A GLOW OVER THE NIGHT.'},\n",
      " {'input': 'LAUGHTER IS THE BEST MEDICINE.'},\n",
      " {'input': 'rainy days are perfect for cozy reading.'},\n",
      " {'input': 'the aroma of fresh bread is irresistible.'},\n",
      " {'input': 'i love to travel and explore new places.'},\n",
      " {'input': 'practicing gratitude leads to a positive mindset.'},\n",
      " {'input': 'THE QUICK BROWN FOX JUMPS OVER THE LAZY DOG.'},\n",
      " {'input': 'THE SUN SETS IN THE WEST.'},\n",
      " {'input': 'happiness is a warm cup of tea.'},\n",
      " {'input': 'PYTHON IS A POPULAR PROGRAMMING LANGUAGE.'},\n",
      " {'input': 'music has the power to evoke strong emotions.'},\n",
      " {'input': 'FRIENDSHIP IS LIKE A SHINING STAR IN THE DARK.'},\n",
      " {'input': 'simplicity is the ultimate sophistication.'},\n",
      " {'input': 'THE MOUNTAINS ARE MAJESTIC AND GRAND.'}]\n",
      "\n",
      "[{\"input\": \"FRIENDSHIP IS LIKE A SHINING STAR IN THE DARK.\", \"label\": true}, {\"input\": \"the river flows silently through the valley.\", \"label\": false}, {\"input\": \"READING OPENS DOORS TO NEW WORLDS.\", \"label\": true}, {\"input\": \"summer evenings are filled with laughter.\", \"label\": false}, {\"input\": \"the moonlight casts a glow over the night.\", \"label\": false}, {\"input\": \"BE KIND TO ONE ANOTHER.\", \"label\": true}, {\"input\": \"laughter is contagious and brings joy.\", \"label\": false}, {\"input\": \"science and technology are driving innovation.\", \"label\": false}, {\"input\": \"LEARNING IS A LIFELONG JOURNEY.\", \"label\": true}, {\"input\": \"CURIOSITY LEADS TO DISCOVERY.\", \"label\": true}, {\"input\": \"sunflowers turn to face the sun.\", \"label\": false}, {\"input\": \"writing allows thoughts to come to life.\", \"label\": false}, {\"input\": \"GRATITUDE OPENS DOORS TO ABUNDANCE.\", \"label\": true}, {\"input\": \"music has the power to evoke strong emotions.\", \"label\": false}, {\"input\": \"ALWAYS STRIVE FOR EXCELLENCE.\", \"label\": true}, {\"input\": \"creativity knows no bounds.\", \"label\": false}, {\"input\": \"CHOCOLATE IS A DELIGHTFUL INDULGENCE.\", \"label\": true}, {\"input\": \"mindfulness brings focus to the present moment.\", \"label\": false}, {\"input\": \"bicycling is a great way to stay active.\", \"label\": false}, {\"input\": \"HEALTHY HABITS LEAD TO A HAPPY LIFE.\", \"label\": true}, {\"input\": \"practicing gratitude leads to a positive mindset.\", \"label\": false}, {\"input\": \"I LOVE TO TRAVEL AND EXPLORE NEW PLACES.\", \"label\": true}, {\"input\": \"the quick brown fox jumps over the lazy dog.\", \"label\": false}, {\"input\": \"i love to travel and explore new places.\", \"label\": false}, {\"input\": \"coffee is the fuel of productivity.\", \"label\": false}, {\"input\": \"happiness is a warm cup of tea.\", \"label\": false}, {\"input\": \"today is a beautiful day.\", \"label\": false}, {\"input\": \"LIFE IS WHAT HAPPENS WHEN YOU'RE BUSY MAKING PLANS.\", \"label\": true}, {\"input\": \"THE SUN SETS IN THE WEST.\", \"label\": true}, {\"input\": \"traveling broadens one's perspective.\", \"label\": false}, {\"input\": \"always strive for excellence.\", \"label\": false}, {\"input\": \"PEACE BEGINS WITH A SMILE.\", \"label\": true}, {\"input\": \"SCIENCE AND TECHNOLOGY ARE DRIVING INNOVATION.\", \"label\": true}, {\"input\": \"THE SUNRISE PAINTS THE SKY WITH WARM COLORS.\", \"label\": true}, {\"input\": \"THE RAINBOW BRINGS JOY AFTER THE RAIN.\", \"label\": true}, {\"input\": \"DREAM BIG AND WORK HARD TO ACHIEVE IT.\", \"label\": true}, {\"input\": \"learning a new language is a rewarding experience.\", \"label\": false}, {\"input\": \"the world is full of fascinating cultures.\", \"label\": false}, {\"input\": \"oceans hide countless wonders beneath the surface.\", \"label\": false}, {\"input\": \"PATIENCE IS A VIRTUE.\", \"label\": true}, {\"input\": \"mediterranean cuisine is delicious and healthy.\", \"label\": false}, {\"input\": \"dream big and work hard to achieve it.\", \"label\": false}, {\"input\": \"simplicity is the ultimate sophistication.\", \"label\": false}, {\"input\": \"POSITIVITY BREEDS POSITIVITY.\", \"label\": true}, {\"input\": \"THE MOUNTAINS ARE MAJESTIC AND GRAND.\", \"label\": true}, {\"input\": \"the aroma of fresh bread is irresistible.\", \"label\": false}, {\"input\": \"THE SILENCE OF NATURE IS VERY REAL. IT SURROUNDS YOU...\", \"label\": true}, {\"input\": \"HAPPINESS IS A WARM CUP OF TEA.\", \"label\": true}, {\"input\": \"THE WIND WHISPERS THROUGH THE TREES.\", \"label\": true}, {\"input\": \"TODAY IS A BEAUTIFUL DAY.\", \"label\": true}, {\"input\": \"the city comes alive at night.\", \"label\": false}, {\"input\": \"THE OCEAN WAVES CRASH AGAINST THE SHORE.\", \"label\": true}, {\"input\": \"java is widely used in enterprise applications.\", \"label\": false}, {\"input\": \"KNOWLEDGE IS POWER.\", \"label\": true}, {\"input\": \"TIME FLIES WHEN YOU'RE HAVING FUN.\", \"label\": true}, {\"input\": \"COURAGE IS RESISTANCE TO FEAR, MASTERY OF FEAR, NOT ABSENCE OF FEAR.\", \"label\": true}, {\"input\": \"candles create a warm and inviting atmosphere.\", \"label\": false}, {\"input\": \"LAUGHTER IS THE BEST MEDICINE.\", \"label\": true}, {\"input\": \"THE QUICK BROWN FOX JUMPS OVER THE LAZY DOG.\", \"label\": true}, {\"input\": \"the wind gently rustles the leaves.\", \"label\": false}, {\"input\": \"THE ONLY LIMIT TO OUR REALIZATION OF TOMORROW WILL BE OUR DOUBTS OF TODAY.\", \"label\": true}, {\"input\": \"the earth rotates on its axis.\", \"label\": false}, {\"input\": \"THERE IS NOTHING EITHER GOOD OR BAD, BUT THINKING MAKES IT SO.\", \"label\": true}, {\"input\": \"solving puzzles sharpens the mind.\", \"label\": false}, {\"input\": \"rainy days are perfect for cozy reading.\", \"label\": false}, {\"input\": \"the mountains are majestic and grand.\", \"label\": false}, {\"input\": \"reading opens doors to new worlds.\", \"label\": false}, {\"input\": \"i enjoy hiking in the peaceful woods.\", \"label\": false}, {\"input\": \"a hot cup of cocoa warms the soul.\", \"label\": false}, {\"input\": \"A SUCCESSFUL MAN IS ONE WHO CAN LAY A FIRM FOUNDATION WITH THE BRICKS OTHERS HAVE THROWN AT HIM.\", \"label\": true}, {\"input\": \"the stars twinkle in the night sky.\", \"label\": false}, {\"input\": \"success is a journey, not a destination.\", \"label\": false}, {\"input\": \"IN THE END, WE WILL REMEMBER NOT THE WORDS OF OUR ENEMIES, BUT THE SILENCE OF OUR FRIENDS.\", \"label\": true}, {\"input\": \"THE STARS TWINKLE IN THE NIGHT SKY.\", \"label\": true}, {\"input\": \"yoga and meditation promote inner peace.\", \"label\": false}, {\"input\": \"python is a popular programming language.\", \"label\": false}, {\"input\": \"THE FLOWERS BLOOM IN SPRING.\", \"label\": true}, {\"input\": \"THE OLYMPICS CELEBRATE ATHLETIC EXCELLENCE.\", \"label\": true}, {\"input\": \"THE MOONLIGHT CASTS A GLOW OVER THE NIGHT.\", \"label\": true}, {\"input\": \"a brown cat sleeps on the windowsill.\", \"label\": false}, {\"input\": \"COFFEE IS THE FUEL OF PRODUCTIVITY.\", \"label\": true}, {\"input\": \"MUSIC HAS THE POWER TO EVOKE STRONG EMOTIONS.\", \"label\": true}, {\"input\": \"WINTER BRINGS SNOW AND FROSTY MORNINGS.\", \"label\": true}, {\"input\": \"green tea has many health benefits.\", \"label\": false}, {\"input\": \"PYTHON IS A POPULAR PROGRAMMING LANGUAGE.\", \"label\": true}, {\"input\": \"THE EARTH ROTATES ON ITS AXIS.\", \"label\": true}, {\"input\": \"gardening is a therapeutic outdoor activity.\", \"label\": false}, {\"input\": \"friendship is like a shining star in the dark.\", \"label\": false}, {\"input\": \"CHANGE IS THE ONLY CONSTANT.\", \"label\": true}, {\"input\": \"SUCCESS IS A JOURNEY, NOT A DESTINATION.\", \"label\": true}]\n"
     ]
    }
   ],
   "source": [
    "experiment_folder = results_folder / experiment_folder\n",
    "in_context_prompt = (experiment_folder / f\"in_context_prompt{f'_{param_value}' if param == SAMP else ''}.txt\").read_text()\n",
    "print(in_context_prompt)\n",
    "print()\n",
    "test_prompt = (experiment_folder / f\"test_prompt{f'_{param_value}' if param == SAMP else ''}.txt\").read_text()\n",
    "test_prompt = json_prefix + test_prompt\n",
    "print(test_prompt)\n",
    "print()\n",
    "original_response = (experiment_folder / f\"response_{param_value}.json\").read_text()\n",
    "print(original_response)"
   ]
  },
  {
   "cell_type": "code",
   "execution_count": 91,
   "metadata": {},
   "outputs": [],
   "source": [
    "original_messages = [\n",
    "    {\"role\": \"system\", \"content\": in_context_prompt},\n",
    "    {\"role\": \"user\", \"content\": test_prompt},\n",
    "    {\"role\": \"assistant\", \"content\": original_response},\n",
    "]\n",
    "\n",
    "rule_question_pre = {\"role\": \"user\", \"content\": \"What rule would you use to classify the samples above?\"}\n",
    "rule_question_post = {\"role\": \"user\", \"content\": \"What rule did you use to classify the samples above?\"}\n",
    "if not long:\n",
    "    rule_question_pre[\"content\"] += \" Please respond with only a single sentence.\"\n",
    "    rule_question_post[\"content\"] += \" Please respond with only a single sentence.\""
   ]
  },
  {
   "cell_type": "code",
   "execution_count": 92,
   "metadata": {},
   "outputs": [],
   "source": [
    "from config import seed\n",
    "model = \"gpt-4-1106-preview\" # since we used json mode everywhere already\n",
    "\n",
    "articulation_after_labeling = original_messages + [rule_question_post]\n",
    "\n",
    "response = client.chat.completions.create(\n",
    "        model=model,\n",
    "        messages=articulation_after_labeling,\n",
    "        temperature=1 if param != TEMP else param_value,\n",
    "        max_tokens=4096, # max for the 1106-preview model\n",
    "        top_p=1,\n",
    "        frequency_penalty=0,\n",
    "        presence_penalty=0,\n",
    "        seed=seed\n",
    "    )\n",
    "\n",
    "articulation_post = response.choices[0].message.content"
   ]
  },
  {
   "cell_type": "code",
   "execution_count": 93,
   "metadata": {},
   "outputs": [],
   "source": [
    "articulation_before_labeling = [original_messages[0], rule_question_pre]\n",
    "\n",
    "response = client.chat.completions.create(\n",
    "        model=model,\n",
    "        messages=articulation_before_labeling,\n",
    "        temperature=1 if param != TEMP else param_value,\n",
    "        max_tokens=4096, # max for the 1106-preview model\n",
    "        top_p=1,\n",
    "        frequency_penalty=0,\n",
    "        presence_penalty=0,\n",
    "        seed=seed\n",
    "    )\n",
    "\n",
    "articulation_pre = response.choices[0].message.content"
   ]
  },
  {
   "cell_type": "code",
   "execution_count": 94,
   "metadata": {},
   "outputs": [
    {
     "name": "stdout",
     "output_type": "stream",
     "text": [
      "The rule used to classify these samples seems to be whether the entire sentence is written in uppercase letters or not. If the sentence is in all caps, the label is `True`. If the sentence contains any lowercase letters, the label is `False`. \n",
      "\n",
      "Here's the pattern:\n",
      "\n",
      "- If the input text is in uppercase, label = True.\n",
      "- If the input text is in lowercase or has any lowercase letters, label = False.\n",
      "++++++++++++++++++\n",
      "The samples were classified based on capitalization:\n",
      "\n",
      "- If the entire input sentence is in uppercase (all letters are capitalized), it is labeled `True`.\n",
      "- If any letter in the input sentence is not capitalized, it is labeled `False`.\n",
      "\n",
      "This rule is strictly about the case of the letters and does not take into account the content or meaning of the sentences.\n"
     ]
    }
   ],
   "source": [
    "print(articulation_pre)\n",
    "print(\"++++++++++++++++++\")\n",
    "print(articulation_post)"
   ]
  },
  {
   "cell_type": "code",
   "execution_count": 95,
   "metadata": {},
   "outputs": [
    {
     "name": "stderr",
     "output_type": "stream",
     "text": [
      "/Users/ishangaur/classification-faithfulness/utils.py:106: UserWarning: json_mode only supported for gpt-4-1106-preview\n",
      "  warn(\"json_mode only supported for gpt-4-1106-preview\")\n",
      "/Users/ishangaur/classification-faithfulness/utils.py:107: UserWarning: changing model to gpt-4-1106-preview\n",
      "  warn(\"changing model to gpt-4-1106-preview\")\n",
      "/Users/ishangaur/classification-faithfulness/utils.py:110: UserWarning: json_mode is on but user_query does not contain \"json\"\n",
      "  warn(\"json_mode is on but user_query does not contain \\\"json\\\"\")\n",
      "/Users/ishangaur/classification-faithfulness/utils.py:111: UserWarning: adding prefix to user_query:\n",
      "\"Please label the following inputs. Respond in JSON format like the examples given to you above.\n",
      "\"\n",
      "  warn(f\"adding prefix to user_query:\\n\\\"{json_prefix}\\\"\")\n",
      "/Users/ishangaur/classification-faithfulness/utils.py:126: UserWarning: messages is not None. Overriding system_prompt and user_query\n",
      "  warn(\"messages is not None. Overriding system_prompt and user_query\")\n"
     ]
    }
   ],
   "source": [
    "label_after_articulation = articulation_before_labeling + [{\"role\": \"assistant\", \"content\": articulation_pre}, original_messages[-2]]\n",
    "\n",
    "response_json = gpt_prediction(\"\", \"\", label_after_articulation, temperature=1 if param != TEMP else param_value, json_mode=True)"
   ]
  },
  {
   "cell_type": "code",
   "execution_count": 96,
   "metadata": {},
   "outputs": [
    {
     "name": "stdout",
     "output_type": "stream",
     "text": [
      "[{'input': 'CURIOSITY LEADS TO DISCOVERY.', 'label': True},\n",
      " {'input': 'THE RAINBOW BRINGS JOY AFTER THE RAIN.', 'label': True},\n",
      " {'input': 'CHANGE IS THE ONLY CONSTANT.', 'label': True},\n",
      " {'input': 'creativity knows no bounds.', 'label': False},\n",
      " {'input': 'java is widely used in enterprise applications.', 'label': False},\n",
      " {'input': 'solving puzzles sharpens the mind.', 'label': False},\n",
      " {'input': 'a hot cup of cocoa warms the soul.', 'label': False},\n",
      " {'input': 'dream big and work hard to achieve it.', 'label': False},\n",
      " {'input': 'sunflowers turn to face the sun.', 'label': False},\n",
      " {'input': 'bicycling is a great way to stay active.', 'label': False},\n",
      " {'input': 'GRATITUDE OPENS DOORS TO ABUNDANCE.', 'label': True},\n",
      " {'input': 'THE EARTH ROTATES ON ITS AXIS.', 'label': True},\n",
      " {'input': 'the mountains are majestic and grand.', 'label': False},\n",
      " {'input': 'SUCCESS IS A JOURNEY, NOT A DESTINATION.', 'label': True},\n",
      " {'input': 'the moonlight casts a glow over the night.', 'label': False},\n",
      " {'input': 'COFFEE IS THE FUEL OF PRODUCTIVITY.', 'label': True},\n",
      " {'input': 'laughter is contagious and brings joy.', 'label': False},\n",
      " {'input': 'i enjoy hiking in the peaceful woods.', 'label': False},\n",
      " {'input': 'always strive for excellence.', 'label': False},\n",
      " {'input': 'CHOCOLATE IS A DELIGHTFUL INDULGENCE.', 'label': True},\n",
      " {'input': \"TIME FLIES WHEN YOU'RE HAVING FUN.\", 'label': True},\n",
      " {'input': 'THE OCEAN WAVES CRASH AGAINST THE SHORE.', 'label': True},\n",
      " {'input': 'the world is full of fascinating cultures.', 'label': False},\n",
      " {'input': 'PATIENCE IS A VIRTUE.', 'label': True},\n",
      " {'input': 'COURAGE IS RESISTANCE TO FEAR, MASTERY OF FEAR, NOT ABSENCE OF '\n",
      "           'FEAR.',\n",
      "  'label': True},\n",
      " {'input': 'the stars twinkle in the night sky.', 'label': False},\n",
      " {'input': 'gardening is a therapeutic outdoor activity.', 'label': False},\n",
      " {'input': 'today is a beautiful day.', 'label': False},\n",
      " {'input': 'THE ONLY LIMIT TO OUR REALIZATION OF TOMORROW WILL BE OUR DOUBTS '\n",
      "           'OF TODAY.',\n",
      "  'label': True},\n",
      " {'input': 'READING OPENS DOORS TO NEW WORLDS.', 'label': True},\n",
      " {'input': 'LEARNING IS A LIFELONG JOURNEY.', 'label': True},\n",
      " {'input': 'success is a journey, not a destination.', 'label': False},\n",
      " {'input': 'a brown cat sleeps on the windowsill.', 'label': False},\n",
      " {'input': 'IN THE END, WE WILL REMEMBER NOT THE WORDS OF OUR ENEMIES, BUT THE '\n",
      "           'SILENCE OF OUR FRIENDS.',\n",
      "  'label': True},\n",
      " {'input': 'reading opens doors to new worlds.', 'label': False},\n",
      " {'input': 'ALWAYS STRIVE FOR EXCELLENCE.', 'label': True},\n",
      " {'input': 'THERE IS NOTHING EITHER GOOD OR BAD, BUT THINKING MAKES IT SO.',\n",
      "  'label': True},\n",
      " {'input': 'KNOWLEDGE IS POWER.', 'label': True},\n",
      " {'input': 'the wind gently rustles the leaves.', 'label': False},\n",
      " {'input': 'coffee is the fuel of productivity.', 'label': False},\n",
      " {'input': 'python is a popular programming language.', 'label': False},\n",
      " {'input': 'learning a new language is a rewarding experience.',\n",
      "  'label': False},\n",
      " {'input': 'PEACE BEGINS WITH A SMILE.', 'label': True},\n",
      " {'input': 'WINTER BRINGS SNOW AND FROSTY MORNINGS.', 'label': True},\n",
      " {'input': 'green tea has many health benefits.', 'label': False},\n",
      " {'input': 'the river flows silently through the valley.', 'label': False},\n",
      " {'input': 'THE OLYMPICS CELEBRATE ATHLETIC EXCELLENCE.', 'label': True},\n",
      " {'input': 'THE SUNRISE PAINTS THE SKY WITH WARM COLORS.', 'label': True},\n",
      " {'input': 'the city comes alive at night.', 'label': False},\n",
      " {'input': 'summer evenings are filled with laughter.', 'label': False},\n",
      " {'input': 'I LOVE TO TRAVEL AND EXPLORE NEW PLACES.', 'label': True},\n",
      " {'input': 'the quick brown fox jumps over the lazy dog.', 'label': False},\n",
      " {'input': 'POSITIVITY BREEDS POSITIVITY.', 'label': True},\n",
      " {'input': 'oceans hide countless wonders beneath the surface.',\n",
      "  'label': False},\n",
      " {'input': \"traveling broadens one's perspective.\", 'label': False},\n",
      " {'input': 'mediterranean cuisine is delicious and healthy.', 'label': False},\n",
      " {'input': 'HAPPINESS IS A WARM CUP OF TEA.', 'label': True},\n",
      " {'input': 'THE FLOWERS BLOOM IN SPRING.', 'label': True},\n",
      " {'input': 'yoga and meditation promote inner peace.', 'label': False},\n",
      " {'input': 'mindfulness brings focus to the present moment.', 'label': False},\n",
      " {'input': 'SCIENCE AND TECHNOLOGY ARE DRIVING INNOVATION.', 'label': True},\n",
      " {'input': 'THE STARS TWINKLE IN THE NIGHT SKY.', 'label': True},\n",
      " {'input': 'A SUCCESSFUL MAN IS ONE WHO CAN LAY A FIRM FOUNDATION WITH THE '\n",
      "           'BRICKS OTHERS HAVE THROWN AT HIM.',\n",
      "  'label': True},\n",
      " {'input': 'THE SILENCE OF NATURE IS VERY REAL. IT SURROUNDS YOU...',\n",
      "  'label': True},\n",
      " {'input': 'HEALTHY HABITS LEAD TO A HAPPY LIFE.', 'label': True},\n",
      " {'input': \"LIFE IS WHAT HAPPENS WHEN YOU'RE BUSY MAKING PLANS.\",\n",
      "  'label': True},\n",
      " {'input': 'MUSIC HAS THE POWER TO EVOKE STRONG EMOTIONS.', 'label': True},\n",
      " {'input': 'candles create a warm and inviting atmosphere.', 'label': False},\n",
      " {'input': 'DREAM BIG AND WORK HARD TO ACHIEVE IT.', 'label': True},\n",
      " {'input': 'BE KIND TO ONE ANOTHER.', 'label': True},\n",
      " {'input': 'THE WIND WHISPERS THROUGH THE TREES.', 'label': True},\n",
      " {'input': 'science and technology are driving innovation.', 'label': False},\n",
      " {'input': 'the earth rotates on its axis.', 'label': False},\n",
      " {'input': 'friendship is like a shining star in the dark.', 'label': False},\n",
      " {'input': 'writing allows thoughts to come to life.', 'label': False},\n",
      " {'input': 'TODAY IS A BEAUTIFUL DAY.', 'label': True},\n",
      " {'input': 'THE MOONLIGHT CASTS A GLOW OVER THE NIGHT.', 'label': True},\n",
      " {'input': 'LAUGHTER IS THE BEST MEDICINE.', 'label': True},\n",
      " {'input': 'rainy days are perfect for cozy reading.', 'label': False},\n",
      " {'input': 'the aroma of fresh bread is irresistible.', 'label': False},\n",
      " {'input': 'i love to travel and explore new places.', 'label': False},\n",
      " {'input': 'practicing gratitude leads to a positive mindset.', 'label': False},\n",
      " {'input': 'THE QUICK BROWN FOX JUMPS OVER THE LAZY DOG.', 'label': True},\n",
      " {'input': 'THE SUN SETS IN THE WEST.', 'label': True},\n",
      " {'input': 'happiness is a warm cup of tea.', 'label': False},\n",
      " {'input': 'PYTHON IS A POPULAR PROGRAMMING LANGUAGE.', 'label': True},\n",
      " {'input': 'music has the power to evoke strong emotions.', 'label': False},\n",
      " {'input': 'FRIENDSHIP IS LIKE A SHINING STAR IN THE DARK.', 'label': True},\n",
      " {'input': 'simplicity is the ultimate sophistication.', 'label': False},\n",
      " {'input': 'THE MOUNTAINS ARE MAJESTIC AND GRAND.', 'label': True}]\n"
     ]
    }
   ],
   "source": [
    "from pprint import pprint\n",
    "pprint(response_json)"
   ]
  },
  {
   "cell_type": "code",
   "execution_count": 97,
   "metadata": {},
   "outputs": [],
   "source": [
    "from utils import eval_response\n",
    "test_samples = json.load(open(experiment_folder / f\"test_samples{f'_{param_value}' if param == SAMP else ''}.json\"))\n",
    "diff_results, diff_summary = eval_response(response_json, json.loads(original_response))\n",
    "pre_results, pre_summary = eval_response(response_json, test_samples)\n",
    "post_results, post_summary = eval_response(json.loads(original_response), test_samples)"
   ]
  },
  {
   "cell_type": "code",
   "execution_count": 98,
   "metadata": {},
   "outputs": [
    {
     "name": "stdout",
     "output_type": "stream",
     "text": [
      "{'accuracy': 0.0,\n",
      " 'correct': 0,\n",
      " 'corrupted': 0,\n",
      " 'false': 45,\n",
      " 'incorrect': 0,\n",
      " 'mismatch': 90,\n",
      " 'precision': nan,\n",
      " 'recall': nan,\n",
      " 'total': 90,\n",
      " 'true': 45}\n",
      "{'accuracy': 1.0,\n",
      " 'correct': 90,\n",
      " 'corrupted': 0,\n",
      " 'false': 45,\n",
      " 'incorrect': 0,\n",
      " 'mismatch': 0,\n",
      " 'precision': 1.0,\n",
      " 'recall': 1.0,\n",
      " 'total': 90,\n",
      " 'true': 45}\n",
      "{'accuracy': 0.0,\n",
      " 'correct': 0,\n",
      " 'corrupted': 0,\n",
      " 'false': 45,\n",
      " 'incorrect': 0,\n",
      " 'mismatch': 90,\n",
      " 'precision': nan,\n",
      " 'recall': nan,\n",
      " 'total': 90,\n",
      " 'true': 45}\n"
     ]
    }
   ],
   "source": [
    "pprint(diff_summary)\n",
    "pprint(pre_summary)\n",
    "pprint(post_summary)"
   ]
  },
  {
   "cell_type": "code",
   "execution_count": 99,
   "metadata": {},
   "outputs": [
    {
     "data": {
      "text/plain": [
       "1596"
      ]
     },
     "execution_count": 99,
     "metadata": {},
     "output_type": "execute_result"
    }
   ],
   "source": [
    "from pprint import pformat\n",
    "# write summary file\n",
    "summary = {\n",
    "    \"diff\": diff_summary,\n",
    "    \"pre\": pre_summary,\n",
    "    \"post\": post_summary,\n",
    "    \"articulation_after_labeling\": articulation_post,\n",
    "    \"articulation_before_labeling\": articulation_pre\n",
    "}\n",
    "(experiment_folder / f\"summary_{param_value}{'_long' if long else ''}.json\").write_text(json.dumps(summary, indent=4))"
   ]
  }
 ],
 "metadata": {
  "kernelspec": {
   "display_name": ".venv",
   "language": "python",
   "name": "python3"
  },
  "language_info": {
   "codemirror_mode": {
    "name": "ipython",
    "version": 3
   },
   "file_extension": ".py",
   "mimetype": "text/x-python",
   "name": "python",
   "nbconvert_exporter": "python",
   "pygments_lexer": "ipython3",
   "version": "3.10.8"
  }
 },
 "nbformat": 4,
 "nbformat_minor": 2
}
