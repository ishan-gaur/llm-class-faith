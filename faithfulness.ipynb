{
 "cells": [
  {
   "cell_type": "code",
   "execution_count": 28,
   "metadata": {},
   "outputs": [
    {
     "name": "stdout",
     "output_type": "stream",
     "text": [
      "280\n",
      "{'all_lower': 78,\n",
      " 'all_upper': 59,\n",
      " 'animate': 1,\n",
      " 'city': 65,\n",
      " 'even_words': 128,\n",
      " 'fragment_subject': 20,\n",
      " 'fragment_verb': 20,\n",
      " 'gpt4': 280,\n",
      " 'long': 65,\n",
      " 'long_margin': 49,\n",
      " 'margin': 50,\n",
      " 'nature': 102,\n",
      " 'odd_words': 152,\n",
      " 'proper_noun': 32,\n",
      " 'sentence': 240,\n",
      " 'shared_sample': 42,\n",
      " 'short': 215,\n",
      " 'short_margin': 181,\n",
      " 'start_cap': 201,\n",
      " 'start_consonant': 226,\n",
      " 'start_lower': 79,\n",
      " 'start_the': 80,\n",
      " 'start_vowel': 54}\n"
     ]
    }
   ],
   "source": [
    "import json\n",
    "import math\n",
    "import random\n",
    "from pathlib import Path\n",
    "from pprint import pprint\n",
    "from utils import load_dataset, create_dataset, write_test_data, gpt_prediction, eval_response, results_path\n",
    "import matplotlib.pyplot as plt\n",
    "\n",
    "output_dir = results_path / \"sentence_faith\"\n",
    "if not output_dir.exists():\n",
    "    output_dir.mkdir(parents=True)\n",
    "dataset, tag_counts = load_dataset(\"sentences.json\")\n",
    "print(len(dataset))\n",
    "pprint(tag_counts)"
   ]
  },
  {
   "cell_type": "code",
   "execution_count": 29,
   "metadata": {},
   "outputs": [
    {
     "name": "stdout",
     "output_type": "stream",
     "text": [
      "37 42 26 23\n"
     ]
    }
   ],
   "source": [
    "tags_true = [\"city\", \"long\"]\n",
    "tags_false = [\"nature\", \"short\"]\n",
    "adversarial_true = [\"city\", \"short\"]\n",
    "adversarial_false = [\"nature\", \"long\"]\n",
    "tags_common = [\"sentence\", \"start_cap\"]\n",
    "positives, negatives = create_dataset(dataset, tags_true, tags_false, tags_common, true_comb=\"AND\", false_comb=\"AND\")\n",
    "adv_positives, adv_negatives = create_dataset(dataset, adversarial_true, adversarial_false, tags_common, true_comb=\"AND\", false_comb=\"AND\")\n",
    "print(len(positives), len(negatives), len(adv_positives), len(adv_negatives))"
   ]
  },
  {
   "cell_type": "code",
   "execution_count": 30,
   "metadata": {},
   "outputs": [
    {
     "data": {
      "text/plain": [
       "<matplotlib.legend.Legend at 0x1230948e0>"
      ]
     },
     "execution_count": 30,
     "metadata": {},
     "output_type": "execute_result"
    },
    {
     "data": {
      "image/png": "[encoded data removed]",
      "text/plain": [
       "<Figure size 640x480 with 1 Axes>"
      ]
     },
     "metadata": {},
     "output_type": "display_data"
    }
   ],
   "source": [
    "plt.hist([len(x[\"input\"].split(' ')) for x in dataset if \"city\" in x[\"tags\"] and \"sentence\" in x[\"tags\"]], label=\"city\", alpha=0.5)\n",
    "plt.hist([len(x[\"input\"].split(' ')) for x in dataset if \"nature\" in x[\"tags\"] and \"sentence\" in x[\"tags\"]], label=\"nature\", alpha=0.5)\n",
    "plt.vlines(x=11, ymin=0, ymax=18, colors=\"red\")\n",
    "plt.xlabel(\"Sentence Length\")\n",
    "plt.ylabel(\"Count\")\n",
    "plt.legend()"
   ]
  },
  {
   "cell_type": "markdown",
   "metadata": {},
   "source": [
    "# Baseline"
   ]
  },
  {
   "cell_type": "code",
   "execution_count": null,
   "metadata": {},
   "outputs": [],
   "source": []
  },
  {
   "cell_type": "markdown",
   "metadata": {},
   "source": [
    "# Handholding Deception"
   ]
  },
  {
   "cell_type": "markdown",
   "metadata": {},
   "source": [
    "# Free Deception"
   ]
  }
 ],
 "metadata": {
  "kernelspec": {
   "display_name": ".venv",
   "language": "python",
   "name": "python3"
  },
  "language_info": {
   "codemirror_mode": {
    "name": "ipython",
    "version": 3
   },
   "file_extension": ".py",
   "mimetype": "text/x-python",
   "name": "python",
   "nbconvert_exporter": "python",
   "pygments_lexer": "ipython3",
   "version": "3.10.8"
  }
 },
 "nbformat": 4,
 "nbformat_minor": 2
}
